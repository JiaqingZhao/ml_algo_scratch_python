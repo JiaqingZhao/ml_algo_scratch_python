{
 "cells": [
  {
   "cell_type": "code",
   "execution_count": 6,
   "metadata": {},
   "outputs": [],
   "source": [
    "from random_forest import *\n",
    "import pandas as pd\n",
    "from utils import *\n",
    "import random"
   ]
  },
  {
   "cell_type": "code",
   "execution_count": 4,
   "metadata": {},
   "outputs": [],
   "source": [
    "# read data\n",
    "data = pd.read_csv(\"sample_data\\sonar.csv\").values.tolist()\n",
    "\n",
    "# make train/test\n",
    "random.shuffle(data)\n",
    "n_train_data = int(len(data) * .9)\n",
    "train, test = data[: n_train_data], data[n_train_data:]"
   ]
  },
  {
   "cell_type": "code",
   "execution_count": 7,
   "metadata": {},
   "outputs": [],
   "source": [
    "accuracies = []\n",
    "\n",
    "for n in [1,3,10,20,30,50,100,200]:\n",
    "    # our classifier\n",
    "    rfc = random_forest_classifier(n_features = 7, n_trees = n, max_depth = 10, min_size = 1,  n_sample_rate= .9)\n",
    "    rfc.build_model(train)\n",
    "\n",
    "\n",
    "    predictions = rfc.predict(test)\n",
    "    labels = [i[-1] for i in test]\n",
    "\n",
    "    n_corr = 0\n",
    "    for i,j in zip(labels, predictions):\n",
    "        if i == j:\n",
    "            n_corr += 1\n",
    "    accuracies.append(round(n_corr/len(labels),4))"
   ]
  },
  {
   "cell_type": "code",
   "execution_count": 14,
   "metadata": {},
   "outputs": [
    {
     "data": {
      "image/png": "[encoded data removed]",
      "text/plain": [
       "<Figure size 432x288 with 1 Axes>"
      ]
     },
     "metadata": {
      "needs_background": "light"
     },
     "output_type": "display_data"
    }
   ],
   "source": [
    "import matplotlib.pyplot as plt\n",
    "plt.plot([1,3,10,20,30,50,100,200],accuracies)\n",
    "plt.axis([0, 100, 0, 1])\n",
    "plt.show()\n",
    "\n",
    "# accuracy trend when number of trees becomes large"
   ]
  }
 ],
 "metadata": {
  "kernelspec": {
   "display_name": "Python 3",
   "language": "python",
   "name": "python3"
  },
  "language_info": {
   "codemirror_mode": {
    "name": "ipython",
    "version": 3
   },
   "file_extension": ".py",
   "mimetype": "text/x-python",
   "name": "python",
   "nbconvert_exporter": "python",
   "pygments_lexer": "ipython3",
   "version": "3.7.1"
  }
 },
 "nbformat": 4,
 "nbformat_minor": 2
}
